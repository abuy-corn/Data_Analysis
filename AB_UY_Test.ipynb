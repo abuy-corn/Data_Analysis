{
  "nbformat": 4,
  "nbformat_minor": 0,
  "metadata": {
    "colab": {
      "provenance": [],
      "authorship_tag": "ABX9TyOzP8cGejxF+UGpjp13G4B/",
      "include_colab_link": true
    },
    "kernelspec": {
      "name": "python3",
      "display_name": "Python 3"
    },
    "language_info": {
      "name": "python"
    }
  },
  "cells": [
    {
      "cell_type": "markdown",
      "metadata": {
        "id": "view-in-github",
        "colab_type": "text"
      },
      "source": [
        "<a href=\"https://colab.research.google.com/github/abuy69/abuy69/blob/main/AB_UY_Test.ipynb\" target=\"_parent\"><img src=\"https://colab.research.google.com/assets/colab-badge.svg\" alt=\"Open In Colab\"/></a>"
      ]
    },
    {
      "cell_type": "markdown",
      "source": [
        "##**AB Test Analysis**\n",
        "The goal of this analysis is to determine wether there is  signficance between old page and brand new page. The data for this analysis will be genertaed with numpy library. The hypothesis as following:\n",
        "\n",
        "\n",
        "*(H0): There is no difference in conversion rates between the\n",
        "old page and new page groups.\n",
        "\n",
        "*(H1): There is a difference in conversion rates between the old page and new page groups.\n",
        "\n",
        "\n"
      ],
      "metadata": {
        "id": "4nDV0D7mDaZD"
      }
    },
    {
      "cell_type": "markdown",
      "source": [
        "First, we should import neccessary library, pandas, scipy and numpy.\n",
        "Pandas is needed to imoort the data frame, scipy to perfrom the t-test and numpy to generate the data."
      ],
      "metadata": {
        "id": "HD1JLuneEK9-"
      }
    },
    {
      "cell_type": "code",
      "execution_count": 23,
      "metadata": {
        "id": "zBJH5j6XPrCm"
      },
      "outputs": [],
      "source": [
        "import numpy as np\n",
        "import pandas as pd\n",
        "import matplotlib.pyplot as plt\n",
        "import seaborn as sns\n",
        "# For reproducibility\n",
        "np.random.seed(88)\n",
        "from scipy import stats"
      ]
    },
    {
      "cell_type": "markdown",
      "source": [
        "The data generated will have column as following: id (int), timestamp (time), group (str), landing page (str), and converted (bool).\n",
        "It also containts  80.000 rows with 7.500 unique id to match real world data."
      ],
      "metadata": {
        "id": "L7a1xVNN1EHg"
      }
    },
    {
      "cell_type": "code",
      "source": [
        "\n",
        "\n",
        "# Define parameters\n",
        "num_rows = 80000\n",
        "num_unique_users = 7500\n",
        "\n",
        "# Generate unique user IDs\n",
        "unique_user_ids = [f\"AB{str(i).zfill(4)}\" for i in range(1, num_unique_users + 1)]\n",
        "\n",
        "# Simulate multiple clicks for each user\n",
        "user_ids = np.random.choice(unique_user_ids, size=num_rows, replace=True)\n",
        "\n",
        "# Generate timestamps (random dates within a range)\n",
        "timestamps = pd.date_range(start='2024-01-01', periods=num_rows, freq='T')\n",
        "\n",
        "# Generate groups ('control' or 'treatment')\n",
        "groups = np.random.choice(['control', 'treatment'], size=num_rows)\n",
        "\n",
        "# Generate landing pages ('old' or 'new')\n",
        "landing_pages = np.random.choice(['old', 'new'], size=num_rows)\n",
        "\n",
        "# Generate conversion status (0 or 1)\n",
        "converted = np.random.choice([0, 1], size=num_rows)\n",
        "\n",
        "# Create the DataFrame\n",
        "df = pd.DataFrame({\n",
        "    'id': user_ids,\n",
        "    'timestamp': timestamps,\n",
        "    'group': groups,\n",
        "    'landing_page': landing_pages,\n",
        "    'converted': converted\n",
        "})\n",
        "\n",
        "# Display the first few rows of the DataFrame\n",
        "print(df.head())\n"
      ],
      "metadata": {
        "colab": {
          "base_uri": "https://localhost:8080/"
        },
        "id": "Q6DYRvFMw4Us",
        "outputId": "d0c2a1ac-1f17-42a1-b999-31681aea524d"
      },
      "execution_count": 24,
      "outputs": [
        {
          "output_type": "stream",
          "name": "stdout",
          "text": [
            "       id           timestamp      group landing_page  converted\n",
            "0  AB2009 2024-01-01 00:00:00  treatment          new          1\n",
            "1  AB6433 2024-01-01 00:01:00    control          new          1\n",
            "2  AB4048 2024-01-01 00:02:00  treatment          new          1\n",
            "3  AB2482 2024-01-01 00:03:00  treatment          old          1\n",
            "4  AB0363 2024-01-01 00:04:00    control          old          1\n"
          ]
        }
      ]
    },
    {
      "cell_type": "markdown",
      "source": [
        "Shows the first 5 rows of the table"
      ],
      "metadata": {
        "id": "gBbZjE-2HlHC"
      }
    },
    {
      "cell_type": "code",
      "source": [
        "# Create DataFrame\n",
        "ab_test = pd.DataFrame({\n",
        "    'user_id': user_ids,\n",
        "    'timestamp': timestamps,\n",
        "    'group': groups,\n",
        "    'landing_page': landing_pages,\n",
        "    'converted': converted\n",
        "})\n",
        "\n",
        "# Display the first few rows\n",
        "print(ab_test.head())\n"
      ],
      "metadata": {
        "colab": {
          "base_uri": "https://localhost:8080/"
        },
        "id": "jQm-jUO30DWa",
        "outputId": "0abc85bd-3297-42bf-8343-89014aaffdd2"
      },
      "execution_count": 25,
      "outputs": [
        {
          "output_type": "stream",
          "name": "stdout",
          "text": [
            "  user_id           timestamp      group landing_page  converted\n",
            "0  AB2009 2024-01-01 00:00:00  treatment          new          1\n",
            "1  AB6433 2024-01-01 00:01:00    control          new          1\n",
            "2  AB4048 2024-01-01 00:02:00  treatment          new          1\n",
            "3  AB2482 2024-01-01 00:03:00  treatment          old          1\n",
            "4  AB0363 2024-01-01 00:04:00    control          old          1\n"
          ]
        }
      ]
    },
    {
      "cell_type": "code",
      "source": [
        "ab_test.to_csv('ab_test_large_sample.csv', index=False) #saving the data into csv file as backup\n"
      ],
      "metadata": {
        "id": "xr5T8UrrQgQl"
      },
      "execution_count": 26,
      "outputs": []
    },
    {
      "cell_type": "markdown",
      "source": [
        "**Descriptive Analysis**:\n",
        "<br>There are treatment 40165 rows and control   39835 rows. With means 49.5%  and 49.7% respectively very close margin. With this close margin it seems there is no signifincant difference between the pages. However let's proceed to the test to confirm it!\n"
      ],
      "metadata": {
        "id": "fzFmXl0cIfs3"
      }
    },
    {
      "cell_type": "code",
      "source": [
        "print(ab_test['group'].value_counts())\n",
        "print(ab_test.groupby('group')['converted'].mean())\n"
      ],
      "metadata": {
        "colab": {
          "base_uri": "https://localhost:8080/"
        },
        "id": "SJt6BttfQjdA",
        "outputId": "f0729f7a-c2eb-447c-9e99-90ccc01e0546"
      },
      "execution_count": 27,
      "outputs": [
        {
          "output_type": "stream",
          "name": "stdout",
          "text": [
            "group\n",
            "treatment    40165\n",
            "control      39835\n",
            "Name: count, dtype: int64\n",
            "group\n",
            "control      0.495946\n",
            "treatment    0.497473\n",
            "Name: converted, dtype: float64\n"
          ]
        }
      ]
    },
    {
      "cell_type": "markdown",
      "source": [
        "Let's see how it looks like in bar graph."
      ],
      "metadata": {
        "id": "dFrvGA3z28tF"
      }
    },
    {
      "cell_type": "code",
      "source": [
        "\n",
        "sns.barplot(x='group', y='converted', data=ab_test, ci=False, palette={'control': 'brown', 'treatment': 'blue'})\n",
        "plt.title('Conversion Rates by Group')\n",
        "plt.show()"
      ],
      "metadata": {
        "colab": {
          "base_uri": "https://localhost:8080/",
          "height": 671
        },
        "id": "xc_nRQNGUqxO",
        "outputId": "c4127d2a-502c-47a5-d883-f8f33e983a38"
      },
      "execution_count": 28,
      "outputs": [
        {
          "output_type": "stream",
          "name": "stderr",
          "text": [
            "<ipython-input-28-513bfff9b949>:1: FutureWarning: \n",
            "\n",
            "The `ci` parameter is deprecated. Use `errorbar=('ci', False)` for the same effect.\n",
            "\n",
            "  sns.barplot(x='group', y='converted', data=ab_test, ci=False, palette={'control': 'brown', 'treatment': 'blue'})\n",
            "<ipython-input-28-513bfff9b949>:1: FutureWarning: \n",
            "\n",
            "Passing `palette` without assigning `hue` is deprecated and will be removed in v0.14.0. Assign the `x` variable to `hue` and set `legend=False` for the same effect.\n",
            "\n",
            "  sns.barplot(x='group', y='converted', data=ab_test, ci=False, palette={'control': 'brown', 'treatment': 'blue'})\n"
          ]
        },
        {
          "output_type": "display_data",
          "data": {
            "text/plain": [
              "<Figure size 640x480 with 1 Axes>"
            ],
            "image/png": "[encoded data removed]"
          },
          "metadata": {}
        }
      ]
    },
    {
      "cell_type": "markdown",
      "source": [
        "To find wether there is significance differnce between control vs treatment group, we should perform a t-statistic and find the p-value."
      ],
      "metadata": {
        "id": "xyFCcSG4S-s_"
      }
    },
    {
      "cell_type": "code",
      "source": [
        "# Before perfrming the t-test, we need to split the data into control and treatment groups\n",
        "control = ab_test[ab_test['group'] == 'control']['converted']\n",
        "treatment = ab_test[ab_test['group'] == 'treatment']['converted']\n",
        "\n",
        "# Perform a t-test\n",
        "t_stat, p_value = stats.ttest_ind(control, treatment)\n",
        "print(f'T-statistic: {t_stat}')\n",
        "print(f'P-value: {p_value}')\n"
      ],
      "metadata": {
        "colab": {
          "base_uri": "https://localhost:8080/"
        },
        "id": "U-b3ALG7RNKk",
        "outputId": "3dd54f67-2385-42d2-8149-49d4c68abf8d"
      },
      "execution_count": 29,
      "outputs": [
        {
          "output_type": "stream",
          "name": "stdout",
          "text": [
            "T-statistic: -0.4319434093851819\n",
            "P-value: 0.6657837079000177\n"
          ]
        }
      ]
    },
    {
      "cell_type": "markdown",
      "source": [
        "The result of t-test shows that p-value is 0.66 which is above significance level of 5% (confidence level of 95%). Therefore we failed to reject H0 which means there is no significance differnce between new page and old page in term of conversion rate."
      ],
      "metadata": {
        "id": "EQ1gM_yH0ktF"
      }
    },
    {
      "cell_type": "code",
      "source": [],
      "metadata": {
        "id": "5YjZilEojYTe"
      },
      "execution_count": 29,
      "outputs": []
    }
  ]
}