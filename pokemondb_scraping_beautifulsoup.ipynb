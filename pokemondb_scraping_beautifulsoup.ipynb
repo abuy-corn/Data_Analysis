{
 "cells": [
  {
   "cell_type": "markdown",
   "id": "2090d292-8397-41bc-b691-1953b167b7c4",
   "metadata": {},
   "source": [
    "## **Data Scraping - pokemondb.net** \n",
    "In this page I am going to show how I scrape data from a pokemondb.net with beautiful soup library, sepsifically the Pokedex page. First go to the url 'https://pokemondb.net/pokedex/all'.\n",
    "The output expected of this data scrape is csv files that hope readable by pandas to be used for further analysis."
   ]
  },
  {
   "cell_type": "code",
   "execution_count": 26,
   "id": "59a14ab3-e42a-4046-888d-67ce2252e3bd",
   "metadata": {},
   "outputs": [
    {
     "name": "stdout",
     "output_type": "stream",
     "text": [
      "   #                    Name          Type  Total  HP  Attack  Defense  \\\n",
      "0  1               Bulbasaur  Grass Poison    318  45      49       49   \n",
      "1  2                 Ivysaur  Grass Poison    405  60      62       63   \n",
      "2  3                Venusaur  Grass Poison    525  80      82       83   \n",
      "3  3  Venusaur Mega Venusaur  Grass Poison    625  80     100      123   \n",
      "4  4              Charmander          Fire    309  39      52       43   \n",
      "\n",
      "   Sp. Atk  Sp. Def  Speed  \n",
      "0       65       65     45  \n",
      "1       80       80     60  \n",
      "2      100      100     80  \n",
      "3      122      120     80  \n",
      "4       60       50     65  \n",
      "number of rows are 1215\n"
     ]
    }
   ],
   "source": [
    "#import neccesary libriaries\n",
    "import requests \n",
    "from bs4 import BeautifulSoup\n",
    "import csv\n",
    "import pandas as pd\n",
    "\n",
    "# Fetch the webpage content\n",
    "url = 'https://pokemondb.net/pokedex/all'\n",
    "response = requests.get(url)\n",
    "\n",
    "# Parse the HTML content\n",
    "soup = BeautifulSoup(response.content, 'html.parser')\n",
    "\n",
    "# Extracting data from the table\n",
    "table = soup.find('table', {'id': 'pokedex'})  # Assuming the table has an id 'pokedex'\n",
    "# since the table start with <tr> \n",
    "rows = table.find_all('tr')\n",
    "\n",
    "# Loop through the rows to extract the table data\n",
    "headers = [header.text.strip() for header in table.find_all('th')]\n",
    "\n",
    "# Open a CSV file to writing\n",
    "with open('pokemon_data.csv', 'w', newline='', encoding='utf-8') as file:\n",
    "    writer = csv.writer(file)\n",
    "    \n",
    "    # Shows the headers\n",
    "    writer.writerow(headers)\n",
    "    \n",
    "    # Write the data rows\n",
    "    for row in table.find_all('tr')[1:]:  # dont forget to skip the header row\n",
    "        cells = row.find_all('td')\n",
    "        data = [cell.text.strip() for cell in cells]\n",
    "        writer.writerow(data)\n",
    "        \n",
    "#read the data, then print the first 5 rows\n",
    "pokemon_data = 'pokemon_data.csv'\n",
    "df = pd.read_csv(pokemon_data)\n",
    "print(df.head())\n",
    "#shows number of rows \n",
    "#if it is 1215 then, all the rows has been sucesfully scrapped\n",
    "print('Number of rows are',len(df))"
   ]
  },
  {
   "cell_type": "markdown",
   "id": "1979f289-00a3-4c59-8b54-20562978ff3b",
   "metadata": {},
   "source": [
    "The Pokedex page has been succesfully scrapped, check the local folder"
   ]
  },
  {
   "cell_type": "code",
   "execution_count": null,
   "id": "fac0dec7-76dc-4cf5-8327-db74ee22f01a",
   "metadata": {},
   "outputs": [],
   "source": []
  }
 ],
 "metadata": {
  "kernelspec": {
   "display_name": "Python 3 (ipykernel)",
   "language": "python",
   "name": "python3"
  },
  "language_info": {
   "codemirror_mode": {
    "name": "ipython",
    "version": 3
   },
   "file_extension": ".py",
   "mimetype": "text/x-python",
   "name": "python",
   "nbconvert_exporter": "python",
   "pygments_lexer": "ipython3",
   "version": "3.12.4"
  }
 },
 "nbformat": 4,
 "nbformat_minor": 5
}
